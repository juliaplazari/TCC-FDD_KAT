{
 "cells": [
  {
   "cell_type": "markdown",
   "metadata": {},
   "source": [
    "# Neural Network\n",
    "\n",
    "Used a sequential model with two hiden layers and tested different number of neurons in each one. Used the Adam Optimizer, \"binary_crossentropy\" as loss function, ReLU activation function and the default 0.5 threshold in the classification\n",
    "\n",
    "\n",
    "Useful links:\n",
    "\n",
    "- [creating a neural network](https://machinelearningmastery.com/tutorial-first-neural-network-python-keras/)\n",
    "\n",
    "- [choosing number of layers](https://machinelearningmastery.com/how-to-configure-the-number-of-layers-and-nodes-in-a-neural-network/)\n",
    "\n",
    "- [How to choose loss functions](https://machinelearningmastery.com/how-to-choose-loss-functions-when-training-deep-learning-neural-networks/)\n",
    "\n",
    "- [Adam Optimization](https://machinelearningmastery.com/adam-optimization-algorithm-for-deep-learning/)"
   ]
  },
  {
   "cell_type": "markdown",
   "metadata": {},
   "source": [
    "## Imports"
   ]
  },
  {
   "cell_type": "code",
   "execution_count": 1,
   "metadata": {},
   "outputs": [],
   "source": [
    "import pandas as pd\n",
    "import numpy as np\n",
    "import matplotlib.pyplot as plt\n",
    "import seaborn as sns\n",
    "\n",
    "from sklearn import svm\n",
    "from sklearn.model_selection import train_test_split\n",
    "from sklearn.metrics import confusion_matrix\n",
    "from sklearn.metrics import accuracy_score\n",
    "\n",
    "from sklearn.preprocessing import StandardScaler\n",
    "from sklearn.metrics import confusion_matrix\n",
    "from sklearn.metrics import classification_report\n",
    "\n",
    "from sklearn.metrics import f1_score\n",
    "from sklearn.metrics import precision_score\n",
    "from sklearn.metrics import recall_score\n",
    "\n",
    "sns.set_palette(\"Blues\")"
   ]
  },
  {
   "cell_type": "code",
   "execution_count": 2,
   "metadata": {},
   "outputs": [],
   "source": [
    "from tensorflow.keras.models import Sequential\n",
    "from tensorflow.keras.layers import Dense\n",
    "\n",
    "from tensorflow.keras.callbacks import ModelCheckpoint\n",
    "from tensorflow.keras.callbacks import EarlyStopping\n",
    "from sklearn.model_selection import KFold\n",
    "from tensorflow.keras.models import load_model"
   ]
  },
  {
   "cell_type": "code",
   "execution_count": 30,
   "metadata": {},
   "outputs": [],
   "source": [
    "def plot_confusion_matrix(y_test, y_pred):\n",
    "    cm = confusion_matrix(y_test, y_pred)\n",
    "\n",
    "\n",
    "    cm_matrix = pd.DataFrame(data=cm, columns=['Predict Negative:0','Predict Positive:1'], \n",
    "                                 index=['Actual Negative:0','Actual Positive:1'])\n",
    "\n",
    "    sns.heatmap(cm_matrix, annot=True, fmt='d',cmap=\"Blues\")\n",
    "    plt.show()\n",
    "\n",
    "    cm_normalized = confusion_matrix(y_test, y_pred, normalize='true')\n",
    "\n",
    "\n",
    "    cm_normalized_matrix = pd.DataFrame(data=cm_normalized, columns=['Predict Negative:0','Predict Positive:1'], \n",
    "                                 index=['Actual Negative:0','Actual Positive:1'])\n",
    "\n",
    "    sns.heatmap(cm_normalized_matrix, annot=True, fmt='.3f',cmap=\"Blues\")\n",
    "    plt.show()"
   ]
  },
  {
   "cell_type": "code",
   "execution_count": 5,
   "metadata": {},
   "outputs": [],
   "source": [
    "def get_metrics(y_test,y_pred):\n",
    "    print(\"Accuracy: \", round(accuracy_score(y_test,y_pred),4))\n",
    "    print(\"F1 score: \", round(f1_score(y_test,y_pred),4))\n",
    "    print(\"Recall: \", round(recall_score(y_test,y_pred),4))\n",
    "    print(\"Precision: \", round(precision_score(y_test,y_pred),4))"
   ]
  },
  {
   "cell_type": "code",
   "execution_count": 6,
   "metadata": {},
   "outputs": [],
   "source": [
    "# auxiliar dfs\n",
    "\n",
    "def get_nn(X, y, title):\n",
    "  ncols = X.shape[1]\n",
    "\n",
    "  # aux lists\n",
    "  train_acc = []\n",
    "  neuronsFirstLayer = []\n",
    "  neuronsSecondLayer = []\n",
    "\n",
    "  # number of neurons to test in the hidden layers\n",
    "  firstLayer = [4,8,16,32,64,128]\n",
    "  secondLayer = [4,8,16,32,64,128]\n",
    "  kfold = KFold(n_splits=5, shuffle=True, random_state=42)\n",
    "\n",
    "  # Save better model (accuracy)\n",
    "  ckpt_model = f'{title}.hdf5'\n",
    "  checkpoint = ModelCheckpoint(ckpt_model, monitor='val_accuracy', verbose=0, save_best_only=True, mode='max')\n",
    "  stop = EarlyStopping(monitor='loss', patience=8,verbose=0)\n",
    "  callbacks_list = [stop, checkpoint]\n",
    "  \n",
    "  for f in firstLayer:\n",
    "    for s in secondLayer:\n",
    "      accuracy = []\n",
    "      neuronsFirstLayer.append(f)\n",
    "      neuronsSecondLayer.append(s)\n",
    "      print(f\"{f} neurons on first layer and {s} on second layer\")\n",
    "      for train, test in kfold.split(X, y):\n",
    "        \n",
    "        # create model with two hidden layers\n",
    "        model = Sequential()\n",
    "        model.add(Dense(f, input_shape=(ncols,), activation='relu'))\n",
    "        model.add(Dense(s, activation='relu'))\n",
    "        model.add(Dense(1, activation='sigmoid'))\n",
    "        model.compile(loss='binary_crossentropy', optimizer='adam', metrics=['accuracy'])\n",
    " \n",
    "        history = model.fit(X[train], y[train],\n",
    "          epochs=150,\n",
    "          validation_data=(X[test], y[test]),\n",
    "          batch_size=20,\n",
    "          callbacks=callbacks_list,\n",
    "          verbose=0)\n",
    "\n",
    "        # evaluate the model\n",
    "        scores = model.evaluate(X[test], y[test], verbose=0)#Returns the loss value[0] & metrics[1] values for the model in test mode.\n",
    "        \n",
    "        # accuracy\n",
    "        accuracy.append(np.mean(scores[1]))\n",
    "        \n",
    "      # mean accuracy for the combination of f and s neurons\n",
    "      train_acc.append(np.mean(accuracy))\n",
    "\n",
    "      print(f'accuracy of: {round(scores[1],3)} for {f} and {s} neurons (1st and 2nd layer)')\n",
    "\n",
    "\n",
    "  df =pd.DataFrame()\n",
    "  df['accuracy']=train_acc\n",
    "  df['neurons_1st']=neuronsFirstLayer\n",
    "  df['neurons_2nd']=neuronsSecondLayer\n",
    "\n",
    "  return df"
   ]
  },
  {
   "cell_type": "markdown",
   "metadata": {},
   "source": [
    "## Load data"
   ]
  },
  {
   "cell_type": "code",
   "execution_count": 7,
   "metadata": {},
   "outputs": [],
   "source": [
    "emd_n10 = pd.read_csv(\"C:\\\\Users\\\\julia\\\\Documents\\\\UNICAMP\\\\TCC\\\\Final_datasets\\\\emd_n10.csv\")"
   ]
  },
  {
   "cell_type": "markdown",
   "metadata": {},
   "source": [
    "### Sanity checks"
   ]
  },
  {
   "cell_type": "code",
   "execution_count": 8,
   "metadata": {},
   "outputs": [
    {
     "data": {
      "text/plain": [
       "label\n",
       "1    8316\n",
       "0    1920\n",
       "Name: count, dtype: int64"
      ]
     },
     "execution_count": 8,
     "metadata": {},
     "output_type": "execute_result"
    }
   ],
   "source": [
    "emd_n10['label'].value_counts()"
   ]
  },
  {
   "cell_type": "code",
   "execution_count": 9,
   "metadata": {},
   "outputs": [
    {
     "data": {
      "text/plain": [
       "bearing\n",
       "K001    320\n",
       "K002    320\n",
       "KI18    320\n",
       "KI17    320\n",
       "KI16    320\n",
       "KI14    320\n",
       "KI04    320\n",
       "KB27    320\n",
       "KB24    320\n",
       "KB23    320\n",
       "KA30    320\n",
       "KA22    320\n",
       "KA16    320\n",
       "KA15    320\n",
       "KA04    320\n",
       "KI08    320\n",
       "KI07    320\n",
       "KI05    320\n",
       "KI03    320\n",
       "KI01    320\n",
       "KA09    320\n",
       "KA07    320\n",
       "KA06    320\n",
       "KA05    320\n",
       "KA03    320\n",
       "KA01    320\n",
       "K006    320\n",
       "K005    320\n",
       "K004    320\n",
       "K003    320\n",
       "KI21    320\n",
       "KA08    316\n",
       "Name: count, dtype: int64"
      ]
     },
     "execution_count": 9,
     "metadata": {},
     "output_type": "execute_result"
    }
   ],
   "source": [
    "emd_n10['bearing'].value_counts()"
   ]
  },
  {
   "cell_type": "code",
   "execution_count": 10,
   "metadata": {},
   "outputs": [
    {
     "data": {
      "text/plain": [
       "Index(['min_phase_current_1_emd_0', 'max_phase_current_1_emd_0',\n",
       "       'median_phase_current_1_emd_0', 'mean_phase_current_1_emd_0',\n",
       "       'rms_phase_current_1_emd_0', 'std_phase_current_1_emd_0',\n",
       "       'range_phase_current_1_emd_0', 'min_phase_current_2_emd_0',\n",
       "       'max_phase_current_2_emd_0', 'median_phase_current_2_emd_0',\n",
       "       ...\n",
       "       'rms_vibration_emd_9', 'std_vibration_emd_9', 'range_vibration_emd_9',\n",
       "       'rotation_speed', 'load_torque', 'radial_force', 'bearing', 'label',\n",
       "       'label_detailed', 'category'],\n",
       "      dtype='object', length=217)"
      ]
     },
     "execution_count": 10,
     "metadata": {},
     "output_type": "execute_result"
    }
   ],
   "source": [
    "emd_n10.columns"
   ]
  },
  {
   "cell_type": "markdown",
   "metadata": {},
   "source": [
    "## Split train and test"
   ]
  },
  {
   "cell_type": "code",
   "execution_count": 11,
   "metadata": {},
   "outputs": [],
   "source": [
    "# keep samples of the same configuration in the train or test df\n",
    "unique_cat = emd_n10[\"category\"].unique()\n",
    "train_ids, test_ids = train_test_split(unique_cat, test_size=0.33, random_state=42)\n",
    "\n",
    "train_df = emd_n10[emd_n10[\"category\"].isin(train_ids)]\n",
    "test_df = emd_n10[emd_n10[\"category\"].isin(test_ids)]"
   ]
  },
  {
   "cell_type": "markdown",
   "metadata": {},
   "source": [
    "## Using phase current data"
   ]
  },
  {
   "cell_type": "code",
   "execution_count": 12,
   "metadata": {},
   "outputs": [],
   "source": [
    "# Split train and test\n",
    "X_train_current = train_df.filter(like=\"current\")\n",
    "X_test_current = test_df.filter(like=\"current\")\n",
    "\n",
    "y_train_current = train_df['label'].values\n",
    "y_test_current = test_df['label'].values\n",
    "\n",
    "# scaler\n",
    "scaler = StandardScaler()\n",
    "\n",
    "X_train_current = scaler.fit_transform(X_train_current)\n",
    "\n",
    "X_test_current = scaler.transform(X_test_current)"
   ]
  },
  {
   "cell_type": "code",
   "execution_count": 13,
   "metadata": {},
   "outputs": [
    {
     "name": "stdout",
     "output_type": "stream",
     "text": [
      "4 neurons on first layer and 4 on second layer\n"
     ]
    },
    {
     "name": "stderr",
     "output_type": "stream",
     "text": [
      "c:\\Users\\julia\\.julia\\conda\\3\\lib\\site-packages\\keras\\src\\engine\\training.py:3079: UserWarning: You are saving your model as an HDF5 file via `model.save()`. This file format is considered legacy. We recommend using instead the native Keras format, e.g. `model.save('my_model.keras')`.\n",
      "  saving_api.save_model(\n"
     ]
    },
    {
     "name": "stdout",
     "output_type": "stream",
     "text": [
      "accuracy of: 0.966 for 4 and 4 neurons (1st and 2nd layer)\n",
      "4 neurons on first layer and 8 on second layer\n",
      "accuracy of: 0.946 for 4 and 8 neurons (1st and 2nd layer)\n",
      "4 neurons on first layer and 16 on second layer\n",
      "accuracy of: 0.982 for 4 and 16 neurons (1st and 2nd layer)\n",
      "4 neurons on first layer and 32 on second layer\n",
      "accuracy of: 0.954 for 4 and 32 neurons (1st and 2nd layer)\n",
      "4 neurons on first layer and 64 on second layer\n",
      "accuracy of: 0.96 for 4 and 64 neurons (1st and 2nd layer)\n",
      "4 neurons on first layer and 128 on second layer\n",
      "accuracy of: 0.967 for 4 and 128 neurons (1st and 2nd layer)\n",
      "8 neurons on first layer and 4 on second layer\n",
      "accuracy of: 0.979 for 8 and 4 neurons (1st and 2nd layer)\n",
      "8 neurons on first layer and 8 on second layer\n",
      "accuracy of: 0.979 for 8 and 8 neurons (1st and 2nd layer)\n",
      "8 neurons on first layer and 16 on second layer\n",
      "accuracy of: 0.976 for 8 and 16 neurons (1st and 2nd layer)\n",
      "8 neurons on first layer and 32 on second layer\n",
      "accuracy of: 0.978 for 8 and 32 neurons (1st and 2nd layer)\n",
      "8 neurons on first layer and 64 on second layer\n",
      "accuracy of: 0.974 for 8 and 64 neurons (1st and 2nd layer)\n",
      "8 neurons on first layer and 128 on second layer\n",
      "accuracy of: 0.975 for 8 and 128 neurons (1st and 2nd layer)\n",
      "16 neurons on first layer and 4 on second layer\n",
      "accuracy of: 0.971 for 16 and 4 neurons (1st and 2nd layer)\n",
      "16 neurons on first layer and 8 on second layer\n",
      "accuracy of: 0.979 for 16 and 8 neurons (1st and 2nd layer)\n",
      "16 neurons on first layer and 16 on second layer\n",
      "accuracy of: 0.98 for 16 and 16 neurons (1st and 2nd layer)\n",
      "16 neurons on first layer and 32 on second layer\n",
      "accuracy of: 0.973 for 16 and 32 neurons (1st and 2nd layer)\n",
      "16 neurons on first layer and 64 on second layer\n",
      "accuracy of: 0.98 for 16 and 64 neurons (1st and 2nd layer)\n",
      "16 neurons on first layer and 128 on second layer\n",
      "accuracy of: 0.979 for 16 and 128 neurons (1st and 2nd layer)\n",
      "32 neurons on first layer and 4 on second layer\n",
      "accuracy of: 0.979 for 32 and 4 neurons (1st and 2nd layer)\n",
      "32 neurons on first layer and 8 on second layer\n",
      "accuracy of: 0.982 for 32 and 8 neurons (1st and 2nd layer)\n",
      "32 neurons on first layer and 16 on second layer\n",
      "accuracy of: 0.981 for 32 and 16 neurons (1st and 2nd layer)\n",
      "32 neurons on first layer and 32 on second layer\n",
      "accuracy of: 0.988 for 32 and 32 neurons (1st and 2nd layer)\n",
      "32 neurons on first layer and 64 on second layer\n",
      "accuracy of: 0.982 for 32 and 64 neurons (1st and 2nd layer)\n",
      "32 neurons on first layer and 128 on second layer\n",
      "accuracy of: 0.984 for 32 and 128 neurons (1st and 2nd layer)\n",
      "64 neurons on first layer and 4 on second layer\n",
      "accuracy of: 0.982 for 64 and 4 neurons (1st and 2nd layer)\n",
      "64 neurons on first layer and 8 on second layer\n",
      "accuracy of: 0.98 for 64 and 8 neurons (1st and 2nd layer)\n",
      "64 neurons on first layer and 16 on second layer\n",
      "accuracy of: 0.981 for 64 and 16 neurons (1st and 2nd layer)\n",
      "64 neurons on first layer and 32 on second layer\n",
      "accuracy of: 0.985 for 64 and 32 neurons (1st and 2nd layer)\n",
      "64 neurons on first layer and 64 on second layer\n",
      "accuracy of: 0.982 for 64 and 64 neurons (1st and 2nd layer)\n",
      "64 neurons on first layer and 128 on second layer\n",
      "accuracy of: 0.984 for 64 and 128 neurons (1st and 2nd layer)\n",
      "128 neurons on first layer and 4 on second layer\n",
      "accuracy of: 0.956 for 128 and 4 neurons (1st and 2nd layer)\n",
      "128 neurons on first layer and 8 on second layer\n",
      "accuracy of: 0.988 for 128 and 8 neurons (1st and 2nd layer)\n",
      "128 neurons on first layer and 16 on second layer\n",
      "accuracy of: 0.979 for 128 and 16 neurons (1st and 2nd layer)\n",
      "128 neurons on first layer and 32 on second layer\n",
      "accuracy of: 0.979 for 128 and 32 neurons (1st and 2nd layer)\n",
      "128 neurons on first layer and 64 on second layer\n",
      "accuracy of: 0.984 for 128 and 64 neurons (1st and 2nd layer)\n",
      "128 neurons on first layer and 128 on second layer\n",
      "accuracy of: 0.983 for 128 and 128 neurons (1st and 2nd layer)\n"
     ]
    }
   ],
   "source": [
    "# get best combination of number of neurons\n",
    "title_best_current = \"emd_n10_current\"\n",
    "best_current = get_nn(X_train_current,y_train_current,title_best_current)"
   ]
  },
  {
   "cell_type": "code",
   "execution_count": 14,
   "metadata": {},
   "outputs": [
    {
     "data": {
      "text/html": [
       "<div>\n",
       "<style scoped>\n",
       "    .dataframe tbody tr th:only-of-type {\n",
       "        vertical-align: middle;\n",
       "    }\n",
       "\n",
       "    .dataframe tbody tr th {\n",
       "        vertical-align: top;\n",
       "    }\n",
       "\n",
       "    .dataframe thead th {\n",
       "        text-align: right;\n",
       "    }\n",
       "</style>\n",
       "<table border=\"1\" class=\"dataframe\">\n",
       "  <thead>\n",
       "    <tr style=\"text-align: right;\">\n",
       "      <th></th>\n",
       "      <th>accuracy</th>\n",
       "      <th>neurons_1st</th>\n",
       "      <th>neurons_2nd</th>\n",
       "    </tr>\n",
       "  </thead>\n",
       "  <tbody>\n",
       "    <tr>\n",
       "      <th>31</th>\n",
       "      <td>0.982059</td>\n",
       "      <td>128</td>\n",
       "      <td>8</td>\n",
       "    </tr>\n",
       "    <tr>\n",
       "      <th>29</th>\n",
       "      <td>0.981765</td>\n",
       "      <td>64</td>\n",
       "      <td>128</td>\n",
       "    </tr>\n",
       "    <tr>\n",
       "      <th>34</th>\n",
       "      <td>0.981176</td>\n",
       "      <td>128</td>\n",
       "      <td>64</td>\n",
       "    </tr>\n",
       "    <tr>\n",
       "      <th>35</th>\n",
       "      <td>0.980588</td>\n",
       "      <td>128</td>\n",
       "      <td>128</td>\n",
       "    </tr>\n",
       "    <tr>\n",
       "      <th>33</th>\n",
       "      <td>0.980588</td>\n",
       "      <td>128</td>\n",
       "      <td>32</td>\n",
       "    </tr>\n",
       "  </tbody>\n",
       "</table>\n",
       "</div>"
      ],
      "text/plain": [
       "    accuracy  neurons_1st  neurons_2nd\n",
       "31  0.982059          128            8\n",
       "29  0.981765           64          128\n",
       "34  0.981176          128           64\n",
       "35  0.980588          128          128\n",
       "33  0.980588          128           32"
      ]
     },
     "execution_count": 14,
     "metadata": {},
     "output_type": "execute_result"
    }
   ],
   "source": [
    "best_current.sort_values('accuracy',ascending=False).head()"
   ]
  },
  {
   "cell_type": "markdown",
   "metadata": {},
   "source": [
    "### Results of the best estimator"
   ]
  },
  {
   "cell_type": "code",
   "execution_count": 31,
   "metadata": {},
   "outputs": [
    {
     "name": "stdout",
     "output_type": "stream",
     "text": [
      "108/108 [==============================] - 0s 3ms/step\n",
      "              precision    recall  f1-score   support\n",
      "\n",
      "           0       0.64      0.55      0.59       720\n",
      "           1       0.89      0.92      0.90      2716\n",
      "\n",
      "    accuracy                           0.84      3436\n",
      "   macro avg       0.76      0.74      0.75      3436\n",
      "weighted avg       0.83      0.84      0.84      3436\n",
      "\n"
     ]
    }
   ],
   "source": [
    "model_current = load_model(f\"{title_best_current}.hdf5\")\n",
    "\n",
    "y_pred_current = model_current.predict(X_test_current) > 0.5\n",
    "\n",
    "print(classification_report(y_test_current, y_pred_current))"
   ]
  },
  {
   "cell_type": "code",
   "execution_count": 32,
   "metadata": {},
   "outputs": [
    {
     "data": {
      "image/png": "[encoded data removed]",
      "text/plain": [
       "<Figure size 432x288 with 2 Axes>"
      ]
     },
     "metadata": {
      "needs_background": "light"
     },
     "output_type": "display_data"
    },
    {
     "data": {
      "image/png": "[encoded data removed]",
      "text/plain": [
       "<Figure size 432x288 with 2 Axes>"
      ]
     },
     "metadata": {
      "needs_background": "light"
     },
     "output_type": "display_data"
    }
   ],
   "source": [
    "plot_confusion_matrix(y_test_current,y_pred_current)"
   ]
  },
  {
   "cell_type": "code",
   "execution_count": 33,
   "metadata": {},
   "outputs": [
    {
     "name": "stdout",
     "output_type": "stream",
     "text": [
      "Accuracy:  0.8411\n",
      "F1 score:  0.9013\n",
      "Recall:  0.9175\n",
      "Precision:  0.8856\n"
     ]
    }
   ],
   "source": [
    "get_metrics(y_test_current,y_pred_current)"
   ]
  },
  {
   "cell_type": "markdown",
   "metadata": {},
   "source": [
    "## Using Vibration data"
   ]
  },
  {
   "cell_type": "code",
   "execution_count": 18,
   "metadata": {},
   "outputs": [],
   "source": [
    "# Split train and test\n",
    "X_train_vib = train_df.filter(like=\"vib\")\n",
    "X_test_vib = test_df.filter(like=\"vib\")\n",
    "\n",
    "y_train_vib = train_df['label'].values\n",
    "y_test_vib = test_df['label'].values\n",
    "\n",
    "# scaler\n",
    "scaler = StandardScaler()\n",
    "\n",
    "X_train_vib = scaler.fit_transform(X_train_vib)\n",
    "\n",
    "X_test_vib = scaler.transform(X_test_vib)"
   ]
  },
  {
   "cell_type": "code",
   "execution_count": 19,
   "metadata": {},
   "outputs": [
    {
     "name": "stdout",
     "output_type": "stream",
     "text": [
      "4 neurons on first layer and 4 on second layer\n"
     ]
    },
    {
     "name": "stderr",
     "output_type": "stream",
     "text": [
      "c:\\Users\\julia\\.julia\\conda\\3\\lib\\site-packages\\keras\\src\\engine\\training.py:3079: UserWarning: You are saving your model as an HDF5 file via `model.save()`. This file format is considered legacy. We recommend using instead the native Keras format, e.g. `model.save('my_model.keras')`.\n",
      "  saving_api.save_model(\n"
     ]
    },
    {
     "name": "stdout",
     "output_type": "stream",
     "text": [
      "accuracy of: 0.949 for 4 and 4 neurons (1st and 2nd layer)\n",
      "4 neurons on first layer and 8 on second layer\n",
      "accuracy of: 0.967 for 4 and 8 neurons (1st and 2nd layer)\n",
      "4 neurons on first layer and 16 on second layer\n",
      "accuracy of: 0.967 for 4 and 16 neurons (1st and 2nd layer)\n",
      "4 neurons on first layer and 32 on second layer\n",
      "accuracy of: 0.974 for 4 and 32 neurons (1st and 2nd layer)\n",
      "4 neurons on first layer and 64 on second layer\n",
      "accuracy of: 0.965 for 4 and 64 neurons (1st and 2nd layer)\n",
      "4 neurons on first layer and 128 on second layer\n",
      "accuracy of: 0.976 for 4 and 128 neurons (1st and 2nd layer)\n",
      "8 neurons on first layer and 4 on second layer\n",
      "accuracy of: 0.979 for 8 and 4 neurons (1st and 2nd layer)\n",
      "8 neurons on first layer and 8 on second layer\n",
      "accuracy of: 0.976 for 8 and 8 neurons (1st and 2nd layer)\n",
      "8 neurons on first layer and 16 on second layer\n",
      "accuracy of: 0.981 for 8 and 16 neurons (1st and 2nd layer)\n",
      "8 neurons on first layer and 32 on second layer\n",
      "accuracy of: 0.974 for 8 and 32 neurons (1st and 2nd layer)\n",
      "8 neurons on first layer and 64 on second layer\n",
      "accuracy of: 0.967 for 8 and 64 neurons (1st and 2nd layer)\n",
      "8 neurons on first layer and 128 on second layer\n",
      "accuracy of: 0.979 for 8 and 128 neurons (1st and 2nd layer)\n",
      "16 neurons on first layer and 4 on second layer\n",
      "accuracy of: 0.978 for 16 and 4 neurons (1st and 2nd layer)\n",
      "16 neurons on first layer and 8 on second layer\n",
      "accuracy of: 0.973 for 16 and 8 neurons (1st and 2nd layer)\n",
      "16 neurons on first layer and 16 on second layer\n",
      "accuracy of: 0.979 for 16 and 16 neurons (1st and 2nd layer)\n",
      "16 neurons on first layer and 32 on second layer\n",
      "accuracy of: 0.963 for 16 and 32 neurons (1st and 2nd layer)\n",
      "16 neurons on first layer and 64 on second layer\n",
      "accuracy of: 0.974 for 16 and 64 neurons (1st and 2nd layer)\n",
      "16 neurons on first layer and 128 on second layer\n",
      "accuracy of: 0.974 for 16 and 128 neurons (1st and 2nd layer)\n",
      "32 neurons on first layer and 4 on second layer\n",
      "accuracy of: 0.973 for 32 and 4 neurons (1st and 2nd layer)\n",
      "32 neurons on first layer and 8 on second layer\n",
      "accuracy of: 0.975 for 32 and 8 neurons (1st and 2nd layer)\n",
      "32 neurons on first layer and 16 on second layer\n",
      "accuracy of: 0.965 for 32 and 16 neurons (1st and 2nd layer)\n",
      "32 neurons on first layer and 32 on second layer\n",
      "accuracy of: 0.975 for 32 and 32 neurons (1st and 2nd layer)\n",
      "32 neurons on first layer and 64 on second layer\n",
      "accuracy of: 0.979 for 32 and 64 neurons (1st and 2nd layer)\n",
      "32 neurons on first layer and 128 on second layer\n",
      "accuracy of: 0.966 for 32 and 128 neurons (1st and 2nd layer)\n",
      "64 neurons on first layer and 4 on second layer\n",
      "accuracy of: 0.976 for 64 and 4 neurons (1st and 2nd layer)\n",
      "64 neurons on first layer and 8 on second layer\n",
      "accuracy of: 0.982 for 64 and 8 neurons (1st and 2nd layer)\n",
      "64 neurons on first layer and 16 on second layer\n",
      "accuracy of: 0.977 for 64 and 16 neurons (1st and 2nd layer)\n",
      "64 neurons on first layer and 32 on second layer\n",
      "accuracy of: 0.963 for 64 and 32 neurons (1st and 2nd layer)\n",
      "64 neurons on first layer and 64 on second layer\n",
      "accuracy of: 0.978 for 64 and 64 neurons (1st and 2nd layer)\n",
      "64 neurons on first layer and 128 on second layer\n",
      "accuracy of: 0.977 for 64 and 128 neurons (1st and 2nd layer)\n",
      "128 neurons on first layer and 4 on second layer\n",
      "accuracy of: 0.975 for 128 and 4 neurons (1st and 2nd layer)\n",
      "128 neurons on first layer and 8 on second layer\n",
      "accuracy of: 0.98 for 128 and 8 neurons (1st and 2nd layer)\n",
      "128 neurons on first layer and 16 on second layer\n",
      "accuracy of: 0.977 for 128 and 16 neurons (1st and 2nd layer)\n",
      "128 neurons on first layer and 32 on second layer\n",
      "accuracy of: 0.975 for 128 and 32 neurons (1st and 2nd layer)\n",
      "128 neurons on first layer and 64 on second layer\n",
      "accuracy of: 0.979 for 128 and 64 neurons (1st and 2nd layer)\n",
      "128 neurons on first layer and 128 on second layer\n",
      "accuracy of: 0.977 for 128 and 128 neurons (1st and 2nd layer)\n"
     ]
    }
   ],
   "source": [
    "# get best combination of number of neurons\n",
    "title_best_vib = \"emd_n10_vib\"\n",
    "best_vib = get_nn(X_train_vib,y_train_vib,title_best_vib)"
   ]
  },
  {
   "cell_type": "code",
   "execution_count": 20,
   "metadata": {},
   "outputs": [
    {
     "data": {
      "text/html": [
       "<div>\n",
       "<style scoped>\n",
       "    .dataframe tbody tr th:only-of-type {\n",
       "        vertical-align: middle;\n",
       "    }\n",
       "\n",
       "    .dataframe tbody tr th {\n",
       "        vertical-align: top;\n",
       "    }\n",
       "\n",
       "    .dataframe thead th {\n",
       "        text-align: right;\n",
       "    }\n",
       "</style>\n",
       "<table border=\"1\" class=\"dataframe\">\n",
       "  <thead>\n",
       "    <tr style=\"text-align: right;\">\n",
       "      <th></th>\n",
       "      <th>accuracy</th>\n",
       "      <th>neurons_1st</th>\n",
       "      <th>neurons_2nd</th>\n",
       "    </tr>\n",
       "  </thead>\n",
       "  <tbody>\n",
       "    <tr>\n",
       "      <th>31</th>\n",
       "      <td>0.975882</td>\n",
       "      <td>128</td>\n",
       "      <td>8</td>\n",
       "    </tr>\n",
       "    <tr>\n",
       "      <th>9</th>\n",
       "      <td>0.975588</td>\n",
       "      <td>8</td>\n",
       "      <td>32</td>\n",
       "    </tr>\n",
       "    <tr>\n",
       "      <th>22</th>\n",
       "      <td>0.975294</td>\n",
       "      <td>32</td>\n",
       "      <td>64</td>\n",
       "    </tr>\n",
       "    <tr>\n",
       "      <th>17</th>\n",
       "      <td>0.975294</td>\n",
       "      <td>16</td>\n",
       "      <td>128</td>\n",
       "    </tr>\n",
       "    <tr>\n",
       "      <th>6</th>\n",
       "      <td>0.974853</td>\n",
       "      <td>8</td>\n",
       "      <td>4</td>\n",
       "    </tr>\n",
       "  </tbody>\n",
       "</table>\n",
       "</div>"
      ],
      "text/plain": [
       "    accuracy  neurons_1st  neurons_2nd\n",
       "31  0.975882          128            8\n",
       "9   0.975588            8           32\n",
       "22  0.975294           32           64\n",
       "17  0.975294           16          128\n",
       "6   0.974853            8            4"
      ]
     },
     "execution_count": 20,
     "metadata": {},
     "output_type": "execute_result"
    }
   ],
   "source": [
    "best_vib.sort_values('accuracy',ascending=False).head()"
   ]
  },
  {
   "cell_type": "markdown",
   "metadata": {},
   "source": [
    "### Results of the best estimator"
   ]
  },
  {
   "cell_type": "code",
   "execution_count": 34,
   "metadata": {},
   "outputs": [
    {
     "name": "stdout",
     "output_type": "stream",
     "text": [
      "108/108 [==============================] - 0s 2ms/step\n",
      "              precision    recall  f1-score   support\n",
      "\n",
      "           0       0.90      0.81      0.85       720\n",
      "           1       0.95      0.98      0.96      2716\n",
      "\n",
      "    accuracy                           0.94      3436\n",
      "   macro avg       0.92      0.89      0.91      3436\n",
      "weighted avg       0.94      0.94      0.94      3436\n",
      "\n"
     ]
    }
   ],
   "source": [
    "model_vib = load_model(f\"{title_best_vib}.hdf5\")\n",
    "\n",
    "y_pred_vib = model_vib.predict(X_test_vib) > 0.5\n",
    "\n",
    "print(classification_report(y_test_vib, y_pred_vib))"
   ]
  },
  {
   "cell_type": "code",
   "execution_count": 35,
   "metadata": {},
   "outputs": [
    {
     "data": {
      "image/png": "[encoded data removed]",
      "text/plain": [
       "<Figure size 432x288 with 2 Axes>"
      ]
     },
     "metadata": {
      "needs_background": "light"
     },
     "output_type": "display_data"
    },
    {
     "data": {
      "image/png": "[encoded data removed]",
      "text/plain": [
       "<Figure size 432x288 with 2 Axes>"
      ]
     },
     "metadata": {
      "needs_background": "light"
     },
     "output_type": "display_data"
    }
   ],
   "source": [
    "plot_confusion_matrix(y_test_vib, y_pred_vib)"
   ]
  },
  {
   "cell_type": "code",
   "execution_count": 36,
   "metadata": {},
   "outputs": [
    {
     "name": "stdout",
     "output_type": "stream",
     "text": [
      "Accuracy:  0.94\n",
      "F1 score:  0.9626\n",
      "Recall:  0.9757\n",
      "Precision:  0.9498\n"
     ]
    }
   ],
   "source": [
    "get_metrics(y_test_vib,y_pred_vib)"
   ]
  },
  {
   "cell_type": "markdown",
   "metadata": {},
   "source": [
    "## Using all data"
   ]
  },
  {
   "cell_type": "code",
   "execution_count": 24,
   "metadata": {},
   "outputs": [],
   "source": [
    "X_train_all = train_df.drop(columns= {'rotation_speed', 'load_torque',\n",
    "       'radial_force', 'bearing', 'label', 'label_detailed','category'})\n",
    "X_test_all = test_df.drop(columns= {'rotation_speed', 'load_torque',\n",
    "       'radial_force', 'bearing', 'label', 'label_detailed','category'})\n",
    "y_train_all = train_df['label'].values\n",
    "y_test_all = test_df['label'].values\n",
    "\n",
    "# scaler\n",
    "scaler = StandardScaler()\n",
    "\n",
    "X_train_all = scaler.fit_transform(X_train_all)\n",
    "\n",
    "X_test_all = scaler.transform(X_test_all)"
   ]
  },
  {
   "cell_type": "code",
   "execution_count": 25,
   "metadata": {},
   "outputs": [
    {
     "name": "stdout",
     "output_type": "stream",
     "text": [
      "4 neurons on first layer and 4 on second layer\n"
     ]
    },
    {
     "name": "stderr",
     "output_type": "stream",
     "text": [
      "c:\\Users\\julia\\.julia\\conda\\3\\lib\\site-packages\\keras\\src\\engine\\training.py:3079: UserWarning: You are saving your model as an HDF5 file via `model.save()`. This file format is considered legacy. We recommend using instead the native Keras format, e.g. `model.save('my_model.keras')`.\n",
      "  saving_api.save_model(\n"
     ]
    },
    {
     "name": "stdout",
     "output_type": "stream",
     "text": [
      "accuracy of: 0.997 for 4 and 4 neurons (1st and 2nd layer)\n",
      "4 neurons on first layer and 8 on second layer\n",
      "accuracy of: 0.996 for 4 and 8 neurons (1st and 2nd layer)\n",
      "4 neurons on first layer and 16 on second layer\n",
      "accuracy of: 0.988 for 4 and 16 neurons (1st and 2nd layer)\n",
      "4 neurons on first layer and 32 on second layer\n",
      "accuracy of: 0.989 for 4 and 32 neurons (1st and 2nd layer)\n",
      "4 neurons on first layer and 64 on second layer\n",
      "accuracy of: 0.99 for 4 and 64 neurons (1st and 2nd layer)\n",
      "4 neurons on first layer and 128 on second layer\n",
      "accuracy of: 0.988 for 4 and 128 neurons (1st and 2nd layer)\n",
      "8 neurons on first layer and 4 on second layer\n",
      "accuracy of: 1.0 for 8 and 4 neurons (1st and 2nd layer)\n",
      "8 neurons on first layer and 8 on second layer\n",
      "accuracy of: 0.997 for 8 and 8 neurons (1st and 2nd layer)\n",
      "8 neurons on first layer and 16 on second layer\n",
      "accuracy of: 0.996 for 8 and 16 neurons (1st and 2nd layer)\n",
      "8 neurons on first layer and 32 on second layer\n",
      "accuracy of: 0.999 for 8 and 32 neurons (1st and 2nd layer)\n",
      "8 neurons on first layer and 64 on second layer\n",
      "accuracy of: 0.998 for 8 and 64 neurons (1st and 2nd layer)\n",
      "8 neurons on first layer and 128 on second layer\n",
      "accuracy of: 0.99 for 8 and 128 neurons (1st and 2nd layer)\n",
      "16 neurons on first layer and 4 on second layer\n",
      "accuracy of: 0.998 for 16 and 4 neurons (1st and 2nd layer)\n",
      "16 neurons on first layer and 8 on second layer\n",
      "accuracy of: 0.999 for 16 and 8 neurons (1st and 2nd layer)\n",
      "16 neurons on first layer and 16 on second layer\n",
      "accuracy of: 0.999 for 16 and 16 neurons (1st and 2nd layer)\n",
      "16 neurons on first layer and 32 on second layer\n",
      "accuracy of: 0.999 for 16 and 32 neurons (1st and 2nd layer)\n",
      "16 neurons on first layer and 64 on second layer\n",
      "accuracy of: 0.999 for 16 and 64 neurons (1st and 2nd layer)\n",
      "16 neurons on first layer and 128 on second layer\n",
      "accuracy of: 0.999 for 16 and 128 neurons (1st and 2nd layer)\n",
      "32 neurons on first layer and 4 on second layer\n",
      "accuracy of: 0.999 for 32 and 4 neurons (1st and 2nd layer)\n",
      "32 neurons on first layer and 8 on second layer\n",
      "accuracy of: 0.999 for 32 and 8 neurons (1st and 2nd layer)\n",
      "32 neurons on first layer and 16 on second layer\n",
      "accuracy of: 1.0 for 32 and 16 neurons (1st and 2nd layer)\n",
      "32 neurons on first layer and 32 on second layer\n",
      "accuracy of: 0.999 for 32 and 32 neurons (1st and 2nd layer)\n",
      "32 neurons on first layer and 64 on second layer\n",
      "accuracy of: 1.0 for 32 and 64 neurons (1st and 2nd layer)\n",
      "32 neurons on first layer and 128 on second layer\n",
      "accuracy of: 0.999 for 32 and 128 neurons (1st and 2nd layer)\n",
      "64 neurons on first layer and 4 on second layer\n",
      "accuracy of: 0.998 for 64 and 4 neurons (1st and 2nd layer)\n",
      "64 neurons on first layer and 8 on second layer\n",
      "accuracy of: 0.999 for 64 and 8 neurons (1st and 2nd layer)\n",
      "64 neurons on first layer and 16 on second layer\n",
      "accuracy of: 0.999 for 64 and 16 neurons (1st and 2nd layer)\n",
      "64 neurons on first layer and 32 on second layer\n",
      "accuracy of: 0.999 for 64 and 32 neurons (1st and 2nd layer)\n",
      "64 neurons on first layer and 64 on second layer\n",
      "accuracy of: 0.999 for 64 and 64 neurons (1st and 2nd layer)\n",
      "64 neurons on first layer and 128 on second layer\n",
      "accuracy of: 0.998 for 64 and 128 neurons (1st and 2nd layer)\n",
      "128 neurons on first layer and 4 on second layer\n",
      "accuracy of: 0.999 for 128 and 4 neurons (1st and 2nd layer)\n",
      "128 neurons on first layer and 8 on second layer\n",
      "accuracy of: 1.0 for 128 and 8 neurons (1st and 2nd layer)\n",
      "128 neurons on first layer and 16 on second layer\n",
      "accuracy of: 0.999 for 128 and 16 neurons (1st and 2nd layer)\n",
      "128 neurons on first layer and 32 on second layer\n",
      "accuracy of: 0.999 for 128 and 32 neurons (1st and 2nd layer)\n",
      "128 neurons on first layer and 64 on second layer\n",
      "accuracy of: 1.0 for 128 and 64 neurons (1st and 2nd layer)\n",
      "128 neurons on first layer and 128 on second layer\n",
      "accuracy of: 0.999 for 128 and 128 neurons (1st and 2nd layer)\n"
     ]
    }
   ],
   "source": [
    "# get best combination of number of neurons\n",
    "title_best_all = \"emd_n10_all\"\n",
    "best_all = get_nn(X_train_all,y_train_all,title_best_all)"
   ]
  },
  {
   "cell_type": "code",
   "execution_count": 26,
   "metadata": {},
   "outputs": [
    {
     "data": {
      "text/html": [
       "<div>\n",
       "<style scoped>\n",
       "    .dataframe tbody tr th:only-of-type {\n",
       "        vertical-align: middle;\n",
       "    }\n",
       "\n",
       "    .dataframe tbody tr th {\n",
       "        vertical-align: top;\n",
       "    }\n",
       "\n",
       "    .dataframe thead th {\n",
       "        text-align: right;\n",
       "    }\n",
       "</style>\n",
       "<table border=\"1\" class=\"dataframe\">\n",
       "  <thead>\n",
       "    <tr style=\"text-align: right;\">\n",
       "      <th></th>\n",
       "      <th>accuracy</th>\n",
       "      <th>neurons_1st</th>\n",
       "      <th>neurons_2nd</th>\n",
       "    </tr>\n",
       "  </thead>\n",
       "  <tbody>\n",
       "    <tr>\n",
       "      <th>22</th>\n",
       "      <td>0.999265</td>\n",
       "      <td>32</td>\n",
       "      <td>64</td>\n",
       "    </tr>\n",
       "    <tr>\n",
       "      <th>33</th>\n",
       "      <td>0.998824</td>\n",
       "      <td>128</td>\n",
       "      <td>32</td>\n",
       "    </tr>\n",
       "    <tr>\n",
       "      <th>34</th>\n",
       "      <td>0.998824</td>\n",
       "      <td>128</td>\n",
       "      <td>64</td>\n",
       "    </tr>\n",
       "    <tr>\n",
       "      <th>31</th>\n",
       "      <td>0.998824</td>\n",
       "      <td>128</td>\n",
       "      <td>8</td>\n",
       "    </tr>\n",
       "    <tr>\n",
       "      <th>19</th>\n",
       "      <td>0.998676</td>\n",
       "      <td>32</td>\n",
       "      <td>8</td>\n",
       "    </tr>\n",
       "  </tbody>\n",
       "</table>\n",
       "</div>"
      ],
      "text/plain": [
       "    accuracy  neurons_1st  neurons_2nd\n",
       "22  0.999265           32           64\n",
       "33  0.998824          128           32\n",
       "34  0.998824          128           64\n",
       "31  0.998824          128            8\n",
       "19  0.998676           32            8"
      ]
     },
     "execution_count": 26,
     "metadata": {},
     "output_type": "execute_result"
    }
   ],
   "source": [
    "best_all.sort_values('accuracy',ascending=False).head()"
   ]
  },
  {
   "cell_type": "markdown",
   "metadata": {},
   "source": [
    "### Resuls of best estimator"
   ]
  },
  {
   "cell_type": "code",
   "execution_count": 37,
   "metadata": {},
   "outputs": [
    {
     "name": "stdout",
     "output_type": "stream",
     "text": [
      "108/108 [==============================] - 0s 2ms/step\n",
      "              precision    recall  f1-score   support\n",
      "\n",
      "           0       0.96      0.88      0.92       720\n",
      "           1       0.97      0.99      0.98      2716\n",
      "\n",
      "    accuracy                           0.97      3436\n",
      "   macro avg       0.96      0.94      0.95      3436\n",
      "weighted avg       0.97      0.97      0.97      3436\n",
      "\n"
     ]
    }
   ],
   "source": [
    "model_all = load_model(f\"{title_best_all}.hdf5\")\n",
    "\n",
    "y_pred_all = model_all.predict(X_test_all) > 0.5\n",
    "\n",
    "print(classification_report(y_test_all, y_pred_all))"
   ]
  },
  {
   "cell_type": "code",
   "execution_count": 38,
   "metadata": {},
   "outputs": [
    {
     "data": {
      "image/png": "[encoded data removed]",
      "text/plain": [
       "<Figure size 432x288 with 2 Axes>"
      ]
     },
     "metadata": {
      "needs_background": "light"
     },
     "output_type": "display_data"
    },
    {
     "data": {
      "image/png": "[encoded data removed]",
      "text/plain": [
       "<Figure size 432x288 with 2 Axes>"
      ]
     },
     "metadata": {
      "needs_background": "light"
     },
     "output_type": "display_data"
    }
   ],
   "source": [
    "plot_confusion_matrix(y_test_all, y_pred_all)"
   ]
  },
  {
   "cell_type": "code",
   "execution_count": 39,
   "metadata": {},
   "outputs": [
    {
     "name": "stdout",
     "output_type": "stream",
     "text": [
      "Accuracy:  0.9674\n",
      "F1 score:  0.9796\n",
      "Recall:  0.9893\n",
      "Precision:  0.97\n"
     ]
    }
   ],
   "source": [
    "get_metrics(y_test_all, y_pred_all)"
   ]
  },
  {
   "cell_type": "code",
   "execution_count": null,
   "metadata": {},
   "outputs": [],
   "source": []
  }
 ],
 "metadata": {
  "kernelspec": {
   "display_name": "base",
   "language": "python",
   "name": "python3"
  },
  "language_info": {
   "codemirror_mode": {
    "name": "ipython",
    "version": 3
   },
   "file_extension": ".py",
   "mimetype": "text/x-python",
   "name": "python",
   "nbconvert_exporter": "python",
   "pygments_lexer": "ipython3",
   "version": "3.9.13"
  }
 },
 "nbformat": 4,
 "nbformat_minor": 2
}
