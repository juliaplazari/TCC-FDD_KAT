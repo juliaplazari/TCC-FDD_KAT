{
 "cells": [
  {
   "cell_type": "markdown",
   "metadata": {},
   "source": [
    "# SVM Classifier\n",
    "\n",
    "SVCs aim to find a hyperplane that effectively separates the classes in their training data by maximizing the margin between the outermost data points of each class.\n",
    "\n",
    "If the data is not linearly separable in the original feature space, a non-linear kernel parameter can be set. Depending on the kernel, the process involves adding new features or transforming existing features to enrich and potentially add meaning to the data. When a kernel other than \"linear\" is set, the SVC applies the kernel trick, which computes the similarity between pairs of data points using the kernel function without explicitly transforming the entire dataset.\n",
    "\n",
    "[sklearn.svm.SVC](https://scikit-learn.org/stable/modules/generated/sklearn.svm.SVC.html)"
   ]
  },
  {
   "cell_type": "markdown",
   "metadata": {},
   "source": [
    "## Imports"
   ]
  },
  {
   "cell_type": "code",
   "execution_count": 1,
   "metadata": {},
   "outputs": [],
   "source": [
    "import pandas as pd\n",
    "import numpy as np\n",
    "import matplotlib.pyplot as plt\n",
    "import seaborn as sns\n",
    "\n",
    "from sklearn import svm\n",
    "from sklearn.model_selection import train_test_split\n",
    "from sklearn.metrics import confusion_matrix\n",
    "from sklearn.model_selection import GridSearchCV\n",
    "from sklearn.metrics import accuracy_score\n",
    "\n",
    "from sklearn.preprocessing import StandardScaler\n",
    "from sklearn.metrics import confusion_matrix\n",
    "from sklearn.metrics import classification_report\n",
    "from sklearn.metrics import f1_score\n",
    "from sklearn.metrics import precision_score\n",
    "from sklearn.metrics import recall_score\n",
    "\n",
    "\n",
    "sns.set_palette(\"Blues\")"
   ]
  },
  {
   "cell_type": "code",
   "execution_count": 2,
   "metadata": {},
   "outputs": [],
   "source": [
    "def plot_confusion_matrix(y_test, y_pred):\n",
    "    cm = confusion_matrix(y_test, y_pred)\n",
    "\n",
    "\n",
    "    cm_matrix = pd.DataFrame(data=cm, columns=['Predict Negative:0','Predict Positive:1'], \n",
    "                                 index=['Actual Negative:0','Actual Positive:1'])\n",
    "\n",
    "    sns.heatmap(cm_matrix, annot=True, fmt='d',cmap=\"Blues\")\n",
    "    plt.show()\n",
    "\n",
    "    cm_normalized = confusion_matrix(y_test, y_pred, normalize='true')\n",
    "\n",
    "\n",
    "    cm_normalized_matrix = pd.DataFrame(data=cm_normalized, columns=['Predict Negative:0','Predict Positive:1'], \n",
    "                                 index=['Actual Negative:0','Actual Positive:1'])\n",
    "\n",
    "    sns.heatmap(cm_normalized_matrix, annot=True, fmt='.3f',cmap=\"Blues\")\n",
    "    plt.show()"
   ]
  },
  {
   "cell_type": "code",
   "execution_count": 3,
   "metadata": {},
   "outputs": [],
   "source": [
    "def get_metrics(y_test,y_pred):\n",
    "    print(\"Accuracy: \", round(accuracy_score(y_test,y_pred),4))\n",
    "    print(\"F1 score: \", round(f1_score(y_test,y_pred),4))\n",
    "    print(\"Recall: \", round(recall_score(y_test,y_pred),4))\n",
    "    print(\"Precision: \", round(precision_score(y_test,y_pred),4))"
   ]
  },
  {
   "cell_type": "markdown",
   "metadata": {},
   "source": [
    "## Load data"
   ]
  },
  {
   "cell_type": "code",
   "execution_count": 4,
   "metadata": {},
   "outputs": [],
   "source": [
    "original = pd.read_csv(\"C:\\\\Users\\\\julia\\\\Documents\\\\UNICAMP\\\\TCC\\\\Final_datasets\\\\original.csv\")"
   ]
  },
  {
   "cell_type": "markdown",
   "metadata": {},
   "source": [
    "### Sanity checks"
   ]
  },
  {
   "cell_type": "code",
   "execution_count": 53,
   "metadata": {},
   "outputs": [
    {
     "data": {
      "text/plain": [
       "label\n",
       "1    8316\n",
       "0    1920\n",
       "Name: count, dtype: int64"
      ]
     },
     "execution_count": 53,
     "metadata": {},
     "output_type": "execute_result"
    }
   ],
   "source": [
    "original['label'].value_counts()"
   ]
  },
  {
   "cell_type": "code",
   "execution_count": 54,
   "metadata": {},
   "outputs": [
    {
     "data": {
      "text/plain": [
       "bearing\n",
       "K001    320\n",
       "K002    320\n",
       "KI18    320\n",
       "KI17    320\n",
       "KI16    320\n",
       "KI14    320\n",
       "KI04    320\n",
       "KB27    320\n",
       "KB24    320\n",
       "KB23    320\n",
       "KA30    320\n",
       "KA22    320\n",
       "KA16    320\n",
       "KA15    320\n",
       "KA04    320\n",
       "KI08    320\n",
       "KI07    320\n",
       "KI05    320\n",
       "KI03    320\n",
       "KI01    320\n",
       "KA09    320\n",
       "KA07    320\n",
       "KA06    320\n",
       "KA05    320\n",
       "KA03    320\n",
       "KA01    320\n",
       "K006    320\n",
       "K005    320\n",
       "K004    320\n",
       "K003    320\n",
       "KI21    320\n",
       "KA08    316\n",
       "Name: count, dtype: int64"
      ]
     },
     "execution_count": 54,
     "metadata": {},
     "output_type": "execute_result"
    }
   ],
   "source": [
    "original['bearing'].value_counts()"
   ]
  },
  {
   "cell_type": "code",
   "execution_count": 55,
   "metadata": {},
   "outputs": [
    {
     "data": {
      "text/plain": [
       "Index(['min_phase_current_1', 'max_phase_current_1', 'median_phase_current_1',\n",
       "       'mean_phase_current_1', 'rms_phase_current_1', 'std_phase_current_1',\n",
       "       'range_phase_current_1', 'min_phase_current_2', 'max_phase_current_2',\n",
       "       'median_phase_current_2', 'mean_phase_current_2', 'rms_phase_current_2',\n",
       "       'std_phase_current_2', 'range_phase_current_2', 'min_vibration',\n",
       "       'max_vibration', 'median_vibration', 'mean_vibration', 'rms_vibration',\n",
       "       'std_vibration', 'range_vibration', 'rotation_speed', 'load_torque',\n",
       "       'radial_force', 'bearing', 'label', 'label_detailed', 'category'],\n",
       "      dtype='object')"
      ]
     },
     "execution_count": 55,
     "metadata": {},
     "output_type": "execute_result"
    }
   ],
   "source": [
    "original.columns"
   ]
  },
  {
   "cell_type": "markdown",
   "metadata": {},
   "source": [
    "## Split train and test"
   ]
  },
  {
   "cell_type": "code",
   "execution_count": 5,
   "metadata": {},
   "outputs": [],
   "source": [
    "# keep samples of the same configuration in the train or test df\n",
    "unique_cat = original[\"category\"].unique()\n",
    "train_ids, test_ids = train_test_split(unique_cat, test_size=0.33, random_state=42)\n",
    "\n",
    "train_df = original[original[\"category\"].isin(train_ids)]\n",
    "test_df = original[original[\"category\"].isin(test_ids)]"
   ]
  },
  {
   "cell_type": "code",
   "execution_count": 57,
   "metadata": {},
   "outputs": [
    {
     "data": {
      "text/plain": [
       "6800"
      ]
     },
     "execution_count": 57,
     "metadata": {},
     "output_type": "execute_result"
    }
   ],
   "source": [
    "len(train_df)"
   ]
  },
  {
   "cell_type": "code",
   "execution_count": 58,
   "metadata": {},
   "outputs": [
    {
     "data": {
      "text/plain": [
       "3436"
      ]
     },
     "execution_count": 58,
     "metadata": {},
     "output_type": "execute_result"
    }
   ],
   "source": [
    "len(test_df)"
   ]
  },
  {
   "cell_type": "code",
   "execution_count": 59,
   "metadata": {},
   "outputs": [
    {
     "name": "stdout",
     "output_type": "stream",
     "text": [
      "Unique bearings train: 32 \n",
      "Unique bearings test: 26\n"
     ]
    }
   ],
   "source": [
    "print(f\"Unique bearings train: {len(train_df['bearing'].unique())} \\nUnique bearings test: {len(test_df['bearing'].unique())}\" )"
   ]
  },
  {
   "cell_type": "code",
   "execution_count": 60,
   "metadata": {},
   "outputs": [
    {
     "name": "stdout",
     "output_type": "stream",
     "text": [
      "Unique bearings train: 3 \n",
      "Unique bearings test: 3\n"
     ]
    }
   ],
   "source": [
    "print(f\"Unique bearings train: {len(train_df['label_detailed'].unique())} \\nUnique bearings test: {len(test_df['label_detailed'].unique())}\" )"
   ]
  },
  {
   "cell_type": "code",
   "execution_count": 61,
   "metadata": {},
   "outputs": [
    {
     "name": "stdout",
     "output_type": "stream",
     "text": [
      "label_detailed\n",
      "accelerated_lifetime    3120\n",
      "artificially_damaged    2480\n",
      "normal                  1200\n",
      "Name: count, dtype: int64\n"
     ]
    }
   ],
   "source": [
    "print(train_df['label_detailed'].value_counts())"
   ]
  },
  {
   "cell_type": "code",
   "execution_count": 62,
   "metadata": {},
   "outputs": [
    {
     "name": "stdout",
     "output_type": "stream",
     "text": [
      "label_detailed\n",
      "accelerated_lifetime    1360\n",
      "artificially_damaged    1356\n",
      "normal                   720\n",
      "Name: count, dtype: int64\n"
     ]
    }
   ],
   "source": [
    "print(test_df['label_detailed'].value_counts())"
   ]
  },
  {
   "cell_type": "markdown",
   "metadata": {},
   "source": [
    "## Using phase current data"
   ]
  },
  {
   "cell_type": "code",
   "execution_count": 6,
   "metadata": {},
   "outputs": [],
   "source": [
    "# Split train and test\n",
    "X_train_current = train_df[['min_phase_current_1', 'max_phase_current_1', 'median_phase_current_1',\n",
    "       'mean_phase_current_1', 'rms_phase_current_1', 'std_phase_current_1',\n",
    "       'range_phase_current_1', 'min_phase_current_2', 'max_phase_current_2',\n",
    "       'median_phase_current_2', 'mean_phase_current_2', 'rms_phase_current_2',\n",
    "       'std_phase_current_2', 'range_phase_current_2']]\n",
    "X_test_current = test_df[['min_phase_current_1', 'max_phase_current_1', 'median_phase_current_1',\n",
    "       'mean_phase_current_1', 'rms_phase_current_1', 'std_phase_current_1',\n",
    "       'range_phase_current_1', 'min_phase_current_2', 'max_phase_current_2',\n",
    "       'median_phase_current_2', 'mean_phase_current_2', 'rms_phase_current_2',\n",
    "       'std_phase_current_2', 'range_phase_current_2']]\n",
    "\n",
    "y_train_current = train_df['label']\n",
    "y_test_current = test_df['label']\n",
    "\n",
    "\n",
    "# scaler\n",
    "scaler = StandardScaler()\n",
    "\n",
    "X_train_current = scaler.fit_transform(X_train_current)\n",
    "\n",
    "X_test_current = scaler.transform(X_test_current)"
   ]
  },
  {
   "cell_type": "markdown",
   "metadata": {},
   "source": [
    "## Grid Search\n",
    "\n",
    "[grid search documentation](https://scikit-learn.org/stable/modules/generated/sklearn.model_selection.GridSearchCV.html)\n",
    "\n",
    "C: Regularization parameter. The strength of the regularization is inversely proportional to C. Must be strictly positive. The penalty is a squared l2 penalty.\n",
    "- to reduce effect of outliers, we should increase C value\n",
    "\n",
    "kernel: Specifies the kernel type to be used in the algorithm\n",
    "- see [documentation](https://scikit-learn.org/stable/auto_examples/svm/plot_svm_kernels.html#sphx-glr-auto-examples-svm-plot-svm-kernels-py)\n",
    "\n",
    "gamma: kernel coefficient \n",
    "- defines how far the influence of a single training example reaches. In other words, it affects the 'smoothness' or 'wiggliness' of the decision boundary."
   ]
  },
  {
   "cell_type": "code",
   "execution_count": 64,
   "metadata": {},
   "outputs": [],
   "source": [
    "parameters = [ {'C':[0.1, 1, 10, 100, 1000], 'kernel':['linear']},\n",
    "               {'C':[0.1, 1, 10, 100, 1000], 'kernel':['rbf'], 'gamma':[0.1, 0.2, 0.3, 0.4, 0.5, 0.6, 0.7, 0.8, 0.9]},\n",
    "               {'C':[0.1, 1, 10, 100, 1000], 'kernel':['poly'], 'degree': [2,3,4] ,'gamma':[0.01,0.02,0.03,0.04,0.05]} \n",
    "              ]"
   ]
  },
  {
   "cell_type": "code",
   "execution_count": 65,
   "metadata": {},
   "outputs": [
    {
     "name": "stdout",
     "output_type": "stream",
     "text": [
      "GridSearch CV best score : 0.8306\n",
      "\n",
      "\n",
      "Parameters that give the best results : \n",
      "\n",
      " {'C': 1, 'degree': 2, 'gamma': 0.03, 'kernel': 'poly'}\n",
      "\n",
      "\n",
      "Estimator that was chosen by the search : \n",
      "\n",
      " SVC(C=1, degree=2, gamma=0.03, kernel='poly')\n"
     ]
    }
   ],
   "source": [
    "svc= svm.SVC()\n",
    "grid_search_current = GridSearchCV(estimator = svc,  \n",
    "                           param_grid = parameters,\n",
    "                           scoring = 'accuracy',\n",
    "                           cv = 5, #cross validation\n",
    "                           verbose=0)\n",
    "\n",
    "\n",
    "grid_search_current.fit(X_train_current, y_train_current)\n",
    "\n",
    "# best score achieved during the GridSearchCV\n",
    "print('GridSearch CV best score : {:.4f}\\n\\n'.format(grid_search_current.best_score_))\n",
    "\n",
    "# print parameters that give the best results\n",
    "print('Parameters that give the best results :','\\n\\n', (grid_search_current.best_params_))\n",
    "\n",
    "# print estimator that was chosen by the GridSearch\n",
    "print('\\n\\nEstimator that was chosen by the search :','\\n\\n', (grid_search_current.best_estimator_))"
   ]
  },
  {
   "cell_type": "markdown",
   "metadata": {},
   "source": [
    "### Results of the best estimator"
   ]
  },
  {
   "cell_type": "code",
   "execution_count": 66,
   "metadata": {},
   "outputs": [
    {
     "name": "stdout",
     "output_type": "stream",
     "text": [
      "              precision    recall  f1-score   support\n",
      "\n",
      "           0       0.99      0.21      0.35       720\n",
      "           1       0.83      1.00      0.91      2716\n",
      "\n",
      "    accuracy                           0.83      3436\n",
      "   macro avg       0.91      0.61      0.63      3436\n",
      "weighted avg       0.86      0.83      0.79      3436\n",
      "\n"
     ]
    }
   ],
   "source": [
    "y_pred_current = grid_search_current.best_estimator_.predict(X_test_current)\n",
    "print(classification_report(y_test_current, y_pred_current))"
   ]
  },
  {
   "cell_type": "code",
   "execution_count": 10,
   "metadata": {},
   "outputs": [
    {
     "data": {
      "image/png": "[encoded data removed]",
      "text/plain": [
       "<Figure size 432x288 with 2 Axes>"
      ]
     },
     "metadata": {
      "needs_background": "light"
     },
     "output_type": "display_data"
    },
    {
     "data": {
      "image/png": "[encoded data removed]",
      "text/plain": [
       "<Figure size 432x288 with 2 Axes>"
      ]
     },
     "metadata": {
      "needs_background": "light"
     },
     "output_type": "display_data"
    }
   ],
   "source": [
    "plot_confusion_matrix(y_test_current,y_pred_current)"
   ]
  },
  {
   "cell_type": "code",
   "execution_count": 68,
   "metadata": {},
   "outputs": [
    {
     "name": "stdout",
     "output_type": "stream",
     "text": [
      "Accuracy:  0.8347\n",
      "F1 score:  0.9053\n",
      "Recall:  0.9993\n",
      "Precision:  0.8274\n"
     ]
    }
   ],
   "source": [
    "get_metrics(y_test_current,y_pred_current)"
   ]
  },
  {
   "cell_type": "markdown",
   "metadata": {},
   "source": [
    "## Using Vibration data"
   ]
  },
  {
   "cell_type": "code",
   "execution_count": 11,
   "metadata": {},
   "outputs": [],
   "source": [
    "# Split train and test\n",
    "X_train_vib = train_df[['min_vibration','max_vibration', 'median_vibration', 'mean_vibration', 'rms_vibration',\n",
    "       'std_vibration', 'range_vibration']]\n",
    "X_test_vib = test_df[['min_vibration','max_vibration', 'median_vibration', 'mean_vibration', 'rms_vibration',\n",
    "       'std_vibration', 'range_vibration']]\n",
    "y_train_vib = train_df['label']\n",
    "y_test_vib = test_df['label']\n",
    "\n",
    "# scaler\n",
    "scaler = StandardScaler()\n",
    "\n",
    "X_train_vib = scaler.fit_transform(X_train_vib)\n",
    "\n",
    "X_test_vib = scaler.transform(X_test_vib)"
   ]
  },
  {
   "cell_type": "code",
   "execution_count": 70,
   "metadata": {},
   "outputs": [
    {
     "name": "stdout",
     "output_type": "stream",
     "text": [
      "GridSearch CV best score : 0.9424\n",
      "\n",
      "\n",
      "Parameters that give the best results : \n",
      "\n",
      " {'C': 0.1, 'gamma': 0.4, 'kernel': 'rbf'}\n",
      "\n",
      "\n",
      "Estimator that was chosen by the search : \n",
      "\n",
      " SVC(C=0.1, gamma=0.4)\n"
     ]
    }
   ],
   "source": [
    "svc= svm.SVC()\n",
    "grid_search_vib = GridSearchCV(estimator = svc,  \n",
    "                           param_grid = parameters,\n",
    "                           scoring = 'accuracy',\n",
    "                           cv = 5, #cross validation\n",
    "                           verbose=0)\n",
    "\n",
    "\n",
    "grid_search_vib.fit(X_train_vib, y_train_vib)\n",
    "\n",
    "# best score achieved during the GridSearchCV\n",
    "print('GridSearch CV best score : {:.4f}\\n\\n'.format(grid_search_vib.best_score_))\n",
    "\n",
    "# print parameters that give the best results\n",
    "print('Parameters that give the best results :','\\n\\n', (grid_search_vib.best_params_))\n",
    "\n",
    "# print estimator that was chosen by the GridSearch\n",
    "print('\\n\\nEstimator that was chosen by the search :','\\n\\n', (grid_search_vib.best_estimator_))"
   ]
  },
  {
   "cell_type": "markdown",
   "metadata": {},
   "source": [
    "### Results of the best estimator"
   ]
  },
  {
   "cell_type": "code",
   "execution_count": 71,
   "metadata": {},
   "outputs": [
    {
     "name": "stdout",
     "output_type": "stream",
     "text": [
      "              precision    recall  f1-score   support\n",
      "\n",
      "           0       0.96      0.88      0.92       720\n",
      "           1       0.97      0.99      0.98      2716\n",
      "\n",
      "    accuracy                           0.97      3436\n",
      "   macro avg       0.96      0.93      0.95      3436\n",
      "weighted avg       0.97      0.97      0.97      3436\n",
      "\n"
     ]
    }
   ],
   "source": [
    "y_pred_vib = grid_search_vib.best_estimator_.predict(X_test_vib)\n",
    "print(classification_report(y_test_vib, y_pred_vib))"
   ]
  },
  {
   "cell_type": "code",
   "execution_count": 13,
   "metadata": {},
   "outputs": [
    {
     "data": {
      "image/png": "[encoded data removed]",
      "text/plain": [
       "<Figure size 432x288 with 2 Axes>"
      ]
     },
     "metadata": {
      "needs_background": "light"
     },
     "output_type": "display_data"
    },
    {
     "data": {
      "image/png": "[encoded data removed]",
      "text/plain": [
       "<Figure size 432x288 with 2 Axes>"
      ]
     },
     "metadata": {
      "needs_background": "light"
     },
     "output_type": "display_data"
    }
   ],
   "source": [
    "plot_confusion_matrix(y_test_vib, y_pred_vib)"
   ]
  },
  {
   "cell_type": "code",
   "execution_count": 14,
   "metadata": {},
   "outputs": [
    {
     "name": "stdout",
     "output_type": "stream",
     "text": [
      "Accuracy:  0.9659\n",
      "F1 score:  0.9787\n",
      "Recall:  0.9893\n",
      "Precision:  0.9683\n"
     ]
    }
   ],
   "source": [
    "get_metrics(y_test_vib,y_pred_vib)"
   ]
  },
  {
   "cell_type": "markdown",
   "metadata": {},
   "source": [
    "## Using all data"
   ]
  },
  {
   "cell_type": "code",
   "execution_count": 15,
   "metadata": {},
   "outputs": [],
   "source": [
    "X_train_all = train_df.drop(columns= {'rotation_speed', 'load_torque',\n",
    "       'radial_force', 'bearing', 'label', 'label_detailed','category'})\n",
    "X_test_all = test_df.drop(columns= {'rotation_speed', 'load_torque',\n",
    "       'radial_force', 'bearing', 'label', 'label_detailed','category'})\n",
    "y_train_all = train_df['label']\n",
    "y_test_all = test_df['label']\n",
    "\n",
    "scaler = StandardScaler()\n",
    "\n",
    "X_train_all = scaler.fit_transform(X_train_all)\n",
    "\n",
    "X_test_all = scaler.transform(X_test_all)"
   ]
  },
  {
   "cell_type": "code",
   "execution_count": 76,
   "metadata": {},
   "outputs": [
    {
     "data": {
      "text/html": [
       "<style>#sk-container-id-1 {color: black;}#sk-container-id-1 pre{padding: 0;}#sk-container-id-1 div.sk-toggleable {background-color: white;}#sk-container-id-1 label.sk-toggleable__label {cursor: pointer;display: block;width: 100%;margin-bottom: 0;padding: 0.3em;box-sizing: border-box;text-align: center;}#sk-container-id-1 label.sk-toggleable__label-arrow:before {content: \"▸\";float: left;margin-right: 0.25em;color: #696969;}#sk-container-id-1 label.sk-toggleable__label-arrow:hover:before {color: black;}#sk-container-id-1 div.sk-estimator:hover label.sk-toggleable__label-arrow:before {color: black;}#sk-container-id-1 div.sk-toggleable__content {max-height: 0;max-width: 0;overflow: hidden;text-align: left;background-color: #f0f8ff;}#sk-container-id-1 div.sk-toggleable__content pre {margin: 0.2em;color: black;border-radius: 0.25em;background-color: #f0f8ff;}#sk-container-id-1 input.sk-toggleable__control:checked~div.sk-toggleable__content {max-height: 200px;max-width: 100%;overflow: auto;}#sk-container-id-1 input.sk-toggleable__control:checked~label.sk-toggleable__label-arrow:before {content: \"▾\";}#sk-container-id-1 div.sk-estimator input.sk-toggleable__control:checked~label.sk-toggleable__label {background-color: #d4ebff;}#sk-container-id-1 div.sk-label input.sk-toggleable__control:checked~label.sk-toggleable__label {background-color: #d4ebff;}#sk-container-id-1 input.sk-hidden--visually {border: 0;clip: rect(1px 1px 1px 1px);clip: rect(1px, 1px, 1px, 1px);height: 1px;margin: -1px;overflow: hidden;padding: 0;position: absolute;width: 1px;}#sk-container-id-1 div.sk-estimator {font-family: monospace;background-color: #f0f8ff;border: 1px dotted black;border-radius: 0.25em;box-sizing: border-box;margin-bottom: 0.5em;}#sk-container-id-1 div.sk-estimator:hover {background-color: #d4ebff;}#sk-container-id-1 div.sk-parallel-item::after {content: \"\";width: 100%;border-bottom: 1px solid gray;flex-grow: 1;}#sk-container-id-1 div.sk-label:hover label.sk-toggleable__label {background-color: #d4ebff;}#sk-container-id-1 div.sk-serial::before {content: \"\";position: absolute;border-left: 1px solid gray;box-sizing: border-box;top: 0;bottom: 0;left: 50%;z-index: 0;}#sk-container-id-1 div.sk-serial {display: flex;flex-direction: column;align-items: center;background-color: white;padding-right: 0.2em;padding-left: 0.2em;position: relative;}#sk-container-id-1 div.sk-item {position: relative;z-index: 1;}#sk-container-id-1 div.sk-parallel {display: flex;align-items: stretch;justify-content: center;background-color: white;position: relative;}#sk-container-id-1 div.sk-item::before, #sk-container-id-1 div.sk-parallel-item::before {content: \"\";position: absolute;border-left: 1px solid gray;box-sizing: border-box;top: 0;bottom: 0;left: 50%;z-index: -1;}#sk-container-id-1 div.sk-parallel-item {display: flex;flex-direction: column;z-index: 1;position: relative;background-color: white;}#sk-container-id-1 div.sk-parallel-item:first-child::after {align-self: flex-end;width: 50%;}#sk-container-id-1 div.sk-parallel-item:last-child::after {align-self: flex-start;width: 50%;}#sk-container-id-1 div.sk-parallel-item:only-child::after {width: 0;}#sk-container-id-1 div.sk-dashed-wrapped {border: 1px dashed gray;margin: 0 0.4em 0.5em 0.4em;box-sizing: border-box;padding-bottom: 0.4em;background-color: white;}#sk-container-id-1 div.sk-label label {font-family: monospace;font-weight: bold;display: inline-block;line-height: 1.2em;}#sk-container-id-1 div.sk-label-container {text-align: center;}#sk-container-id-1 div.sk-container {/* jupyter's `normalize.less` sets `[hidden] { display: none; }` but bootstrap.min.css set `[hidden] { display: none !important; }` so we also need the `!important` here to be able to override the default hidden behavior on the sphinx rendered scikit-learn.org. See: https://github.com/scikit-learn/scikit-learn/issues/21755 */display: inline-block !important;position: relative;}#sk-container-id-1 div.sk-text-repr-fallback {display: none;}</style><div id=\"sk-container-id-1\" class=\"sk-top-container\"><div class=\"sk-text-repr-fallback\"><pre>GridSearchCV(cv=5, estimator=SVC(),\n",
       "             param_grid=[{&#x27;C&#x27;: [0.1, 1, 10, 100, 1000], &#x27;kernel&#x27;: [&#x27;linear&#x27;]},\n",
       "                         {&#x27;C&#x27;: [0.1, 1, 10, 100, 1000],\n",
       "                          &#x27;gamma&#x27;: [0.1, 0.2, 0.3, 0.4, 0.5, 0.6, 0.7, 0.8,\n",
       "                                    0.9],\n",
       "                          &#x27;kernel&#x27;: [&#x27;rbf&#x27;]},\n",
       "                         {&#x27;C&#x27;: [0.1, 1, 10, 100, 1000], &#x27;degree&#x27;: [2, 3, 4],\n",
       "                          &#x27;gamma&#x27;: [0.01, 0.02, 0.03, 0.04, 0.05],\n",
       "                          &#x27;kernel&#x27;: [&#x27;poly&#x27;]}],\n",
       "             scoring=&#x27;accuracy&#x27;)</pre><b>In a Jupyter environment, please rerun this cell to show the HTML representation or trust the notebook. <br />On GitHub, the HTML representation is unable to render, please try loading this page with nbviewer.org.</b></div><div class=\"sk-container\" hidden><div class=\"sk-item sk-dashed-wrapped\"><div class=\"sk-label-container\"><div class=\"sk-label sk-toggleable\"><input class=\"sk-toggleable__control sk-hidden--visually\" id=\"sk-estimator-id-1\" type=\"checkbox\" ><label for=\"sk-estimator-id-1\" class=\"sk-toggleable__label sk-toggleable__label-arrow\">GridSearchCV</label><div class=\"sk-toggleable__content\"><pre>GridSearchCV(cv=5, estimator=SVC(),\n",
       "             param_grid=[{&#x27;C&#x27;: [0.1, 1, 10, 100, 1000], &#x27;kernel&#x27;: [&#x27;linear&#x27;]},\n",
       "                         {&#x27;C&#x27;: [0.1, 1, 10, 100, 1000],\n",
       "                          &#x27;gamma&#x27;: [0.1, 0.2, 0.3, 0.4, 0.5, 0.6, 0.7, 0.8,\n",
       "                                    0.9],\n",
       "                          &#x27;kernel&#x27;: [&#x27;rbf&#x27;]},\n",
       "                         {&#x27;C&#x27;: [0.1, 1, 10, 100, 1000], &#x27;degree&#x27;: [2, 3, 4],\n",
       "                          &#x27;gamma&#x27;: [0.01, 0.02, 0.03, 0.04, 0.05],\n",
       "                          &#x27;kernel&#x27;: [&#x27;poly&#x27;]}],\n",
       "             scoring=&#x27;accuracy&#x27;)</pre></div></div></div><div class=\"sk-parallel\"><div class=\"sk-parallel-item\"><div class=\"sk-item\"><div class=\"sk-label-container\"><div class=\"sk-label sk-toggleable\"><input class=\"sk-toggleable__control sk-hidden--visually\" id=\"sk-estimator-id-2\" type=\"checkbox\" ><label for=\"sk-estimator-id-2\" class=\"sk-toggleable__label sk-toggleable__label-arrow\">estimator: SVC</label><div class=\"sk-toggleable__content\"><pre>SVC()</pre></div></div></div><div class=\"sk-serial\"><div class=\"sk-item\"><div class=\"sk-estimator sk-toggleable\"><input class=\"sk-toggleable__control sk-hidden--visually\" id=\"sk-estimator-id-3\" type=\"checkbox\" ><label for=\"sk-estimator-id-3\" class=\"sk-toggleable__label sk-toggleable__label-arrow\">SVC</label><div class=\"sk-toggleable__content\"><pre>SVC()</pre></div></div></div></div></div></div></div></div></div></div>"
      ],
      "text/plain": [
       "GridSearchCV(cv=5, estimator=SVC(),\n",
       "             param_grid=[{'C': [0.1, 1, 10, 100, 1000], 'kernel': ['linear']},\n",
       "                         {'C': [0.1, 1, 10, 100, 1000],\n",
       "                          'gamma': [0.1, 0.2, 0.3, 0.4, 0.5, 0.6, 0.7, 0.8,\n",
       "                                    0.9],\n",
       "                          'kernel': ['rbf']},\n",
       "                         {'C': [0.1, 1, 10, 100, 1000], 'degree': [2, 3, 4],\n",
       "                          'gamma': [0.01, 0.02, 0.03, 0.04, 0.05],\n",
       "                          'kernel': ['poly']}],\n",
       "             scoring='accuracy')"
      ]
     },
     "execution_count": 76,
     "metadata": {},
     "output_type": "execute_result"
    }
   ],
   "source": [
    "svc= svm.SVC()\n",
    "grid_search_all = GridSearchCV(estimator = svc,  \n",
    "                           param_grid = parameters,\n",
    "                           scoring = 'accuracy',\n",
    "                           cv = 5, #cross validation\n",
    "                           verbose=0)\n",
    "\n",
    "\n",
    "grid_search_all.fit(X_train_all, y_train_all)"
   ]
  },
  {
   "cell_type": "code",
   "execution_count": 77,
   "metadata": {},
   "outputs": [
    {
     "name": "stdout",
     "output_type": "stream",
     "text": [
      "GridSearch CV best score : 0.8584\n",
      "\n",
      "\n",
      "Parameters that give the best results : \n",
      "\n",
      " {'C': 1000, 'degree': 3, 'gamma': 0.03, 'kernel': 'poly'}\n",
      "\n",
      "\n",
      "Estimator that was chosen by the search : \n",
      "\n",
      " SVC(C=1000, gamma=0.03, kernel='poly')\n"
     ]
    }
   ],
   "source": [
    "# best score achieved during the GridSearchCV\n",
    "print('GridSearch CV best score : {:.4f}\\n\\n'.format(grid_search_all.best_score_))\n",
    "\n",
    "\n",
    "# print parameters that give the best results\n",
    "print('Parameters that give the best results :','\\n\\n', (grid_search_all.best_params_))\n",
    "\n",
    "\n",
    "# print estimator that was chosen by the GridSearch\n",
    "print('\\n\\nEstimator that was chosen by the search :','\\n\\n', (grid_search_all.best_estimator_))"
   ]
  },
  {
   "cell_type": "markdown",
   "metadata": {},
   "source": [
    "### Resuls of best estimator"
   ]
  },
  {
   "cell_type": "code",
   "execution_count": 78,
   "metadata": {},
   "outputs": [
    {
     "name": "stdout",
     "output_type": "stream",
     "text": [
      "              precision    recall  f1-score   support\n",
      "\n",
      "           0       0.75      0.84      0.79       720\n",
      "           1       0.96      0.92      0.94      2716\n",
      "\n",
      "    accuracy                           0.91      3436\n",
      "   macro avg       0.85      0.88      0.87      3436\n",
      "weighted avg       0.91      0.91      0.91      3436\n",
      "\n"
     ]
    }
   ],
   "source": [
    "y_pred_all = grid_search_all.best_estimator_.predict(X_test_all)\n",
    "print(classification_report(y_test_all, y_pred_all))"
   ]
  },
  {
   "cell_type": "code",
   "execution_count": 17,
   "metadata": {},
   "outputs": [
    {
     "data": {
      "image/png": "[encoded data removed]",
      "text/plain": [
       "<Figure size 432x288 with 2 Axes>"
      ]
     },
     "metadata": {
      "needs_background": "light"
     },
     "output_type": "display_data"
    },
    {
     "data": {
      "image/png": "[encoded data removed]",
      "text/plain": [
       "<Figure size 432x288 with 2 Axes>"
      ]
     },
     "metadata": {
      "needs_background": "light"
     },
     "output_type": "display_data"
    }
   ],
   "source": [
    "plot_confusion_matrix(y_test_all, y_pred_all)"
   ]
  },
  {
   "cell_type": "code",
   "execution_count": 18,
   "metadata": {},
   "outputs": [
    {
     "name": "stdout",
     "output_type": "stream",
     "text": [
      "Accuracy:  0.9069\n",
      "F1 score:  0.94\n",
      "Recall:  0.9234\n",
      "Precision:  0.9573\n"
     ]
    }
   ],
   "source": [
    "get_metrics(y_test_all,y_pred_all)"
   ]
  },
  {
   "cell_type": "code",
   "execution_count": null,
   "metadata": {},
   "outputs": [],
   "source": []
  }
 ],
 "metadata": {
  "kernelspec": {
   "display_name": "base",
   "language": "python",
   "name": "python3"
  },
  "language_info": {
   "codemirror_mode": {
    "name": "ipython",
    "version": 3
   },
   "file_extension": ".py",
   "mimetype": "text/x-python",
   "name": "python",
   "nbconvert_exporter": "python",
   "pygments_lexer": "ipython3",
   "version": "3.9.13"
  }
 },
 "nbformat": 4,
 "nbformat_minor": 2
}
